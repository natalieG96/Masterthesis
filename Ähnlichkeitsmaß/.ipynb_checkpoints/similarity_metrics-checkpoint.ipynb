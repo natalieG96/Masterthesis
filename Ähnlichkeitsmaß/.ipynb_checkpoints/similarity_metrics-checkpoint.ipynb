{
 "cells": [
  {
   "cell_type": "code",
   "execution_count": 1,
   "metadata": {},
   "outputs": [],
   "source": [
    "import re\n",
    "import os\n",
    "import random\n",
    "import numpy as np\n",
    "from PIL import Image\n",
    "import scipy\n",
    "from scipy import spatial\n",
    "import tensorflow as tf\n",
    "import tensorflow.keras as keras\n",
    "import datetime\n",
    "import time"
   ]
  },
  {
   "cell_type": "markdown",
   "metadata": {},
   "source": [
    "# Distanzen"
   ]
  },
  {
   "cell_type": "code",
   "execution_count": 2,
   "metadata": {},
   "outputs": [],
   "source": [
    "def iou(a, b):\n",
    "    m = tf.keras.metrics.MeanIoU(num_classes=2)\n",
    "    m.update_state(a, b)\n",
    "\n",
    "    return m.result()"
   ]
  },
  {
   "cell_type": "code",
   "execution_count": 3,
   "metadata": {},
   "outputs": [],
   "source": [
    "# eine eigene Implementierung der Hausdorffer Distanz, aus performance Gründen wurde dennoch die von SciPy genutzt\n",
    "def hausdorff_distance(a,b):\n",
    "    point_set_a = tf.convert_to_tensor(value=a)\n",
    "    point_set_b = tf.convert_to_tensor(value=b)\n",
    "    \n",
    "    difference = (\n",
    "        tf.expand_dims(point_set_a, axis=-2) -\n",
    "        tf.expand_dims(point_set_b, axis=-3))\n",
    "    square_distances = tf.einsum(\"...i,...i->...\", difference, difference)\n",
    "    \n",
    "    minimum_square_distance_a_to_b = tf.reduce_min(input_tensor=square_distances, axis=-1)\n",
    "    return tf.sqrt(tf.reduce_max(input_tensor=minimum_square_distance_a_to_b, axis=-1))"
   ]
  },
  {
   "cell_type": "code",
   "execution_count": null,
   "metadata": {},
   "outputs": [],
   "source": [
    "# Dieser Block wurde für die zeitlichen Apskete der Experimente genutzt\n",
    "start = time.time()\n",
    "search_obj = np.load(\"test_objects_distance_metric/predicted_256/table.npy\")\n",
    "\n",
    "ss_obj = search_obj.reshape(2,-1)\n",
    "\n",
    "\n",
    "for subdir, dirs, files in os.walk(\"test_objects_distance_metric/predicted_256\"):\n",
    "    for file in files:\n",
    "        obj = np.load(subdir + os.sep + file)\n",
    "        \n",
    "        # Die Hausdorffer Distanz nimmt nur Arrays zweidimensionaler Art entgegen, also müssen diese zuvor umgeformt werden.\n",
    "        #oobj = obj.reshape(2,-1)\n",
    "        #dist = scipy.spatial.distance.directed_hausdorff(ss_obj,oobj, seed=None)[0]\n",
    "        iou(search_obj,obj)\n",
    "end = time.time()\n",
    "print((end - start)*1000.0)"
   ]
  },
  {
   "cell_type": "markdown",
   "metadata": {},
   "source": [
    "## Verschiedene Tests der Ähnlichkeißtsmaße"
   ]
  },
  {
   "cell_type": "code",
   "execution_count": 16,
   "metadata": {},
   "outputs": [
    {
     "data": {
      "text/plain": [
       "(258, 258, 258)"
      ]
     },
     "execution_count": 16,
     "metadata": {},
     "output_type": "execute_result"
    }
   ],
   "source": [
    "a = np.load(\"test_objects_distance_metric/0_voxel.npy\")\n",
    "b = np.load(\"test_objects_distance_metric/1_voxel.npy\")\n",
    "c = np.load(\"test_objects_distance_metric/2_voxel.npy\")\n",
    "d = np.load(\"test_objects_distance_metric/3_voxel.npy\")\n",
    "e = np.load(\"test_objects_distance_metric/4_voxel.npy\")\n",
    "f = np.load(\"test_objects_distance_metric/5_voxel.npy\")\n",
    "g = np.load(\"test_objects_distance_metric/6_voxel.npy\")\n",
    "\n",
    "f1 = np.load(\"test_objects_distance_metric/04_voxel.npy\")\n",
    "f2 = np.load(\"test_objects_distance_metric/05_voxel.npy\")\n",
    "f1.shape"
   ]
  },
  {
   "cell_type": "code",
   "execution_count": null,
   "metadata": {},
   "outputs": [],
   "source": [
    "aa = a.reshape(2-1)\n",
    "bb = b.reshape(2,-1)\n",
    "cc = c.reshape(2,-1)\n",
    "dd = d.reshape(2,-1)\n",
    "ee = e.reshape(2,-1)\n",
    "ff = f.reshape(2,-1)\n",
    "gg = g.reshape(2,-1)\n",
    "f11 = f1.reshape(2,-1)\n",
    "f22 = f2.reshape(2,-1)\n",
    "print(aa.shape)\n",
    "print(scipy.spatial.distance.directed_hausdorff(aa,bb, seed=None)[0])\n",
    "print(scipy.spatial.distance.directed_hausdorff(aa,cc, seed=None)[0])\n",
    "print(scipy.spatial.distance.directed_hausdorff(aa,dd, seed=None)[0])\n",
    "print(scipy.spatial.distance.directed_hausdorff(aa,ee, seed=None)[0])\n",
    "print(scipy.spatial.distance.directed_hausdorff(aa,ff, seed=None)[0])\n",
    "print(scipy.spatial.distance.directed_hausdorff(aa,gg, seed=None)[0])"
   ]
  },
  {
   "cell_type": "code",
   "execution_count": 81,
   "metadata": {},
   "outputs": [
    {
     "name": "stdout",
     "output_type": "stream",
     "text": [
      "tf.Tensor(0.8103572, shape=(), dtype=float32)\n"
     ]
    }
   ],
   "source": [
    "print(iou(f1,f2))"
   ]
  },
  {
   "cell_type": "code",
   "execution_count": 67,
   "metadata": {},
   "outputs": [
    {
     "name": "stdout",
     "output_type": "stream",
     "text": [
      "tf.Tensor(0.7830779, shape=(), dtype=float32)\n"
     ]
    }
   ],
   "source": [
    "print(iou(a,b))"
   ]
  },
  {
   "cell_type": "code",
   "execution_count": 68,
   "metadata": {},
   "outputs": [
    {
     "name": "stdout",
     "output_type": "stream",
     "text": [
      "tf.Tensor(0.85145026, shape=(), dtype=float32)\n"
     ]
    }
   ],
   "source": [
    "print(iou(a,c))"
   ]
  },
  {
   "cell_type": "code",
   "execution_count": 70,
   "metadata": {},
   "outputs": [
    {
     "name": "stdout",
     "output_type": "stream",
     "text": [
      "tf.Tensor(0.8772099, shape=(), dtype=float32)\n"
     ]
    }
   ],
   "source": [
    "print(iou(a,d))"
   ]
  },
  {
   "cell_type": "code",
   "execution_count": 75,
   "metadata": {},
   "outputs": [
    {
     "name": "stdout",
     "output_type": "stream",
     "text": [
      "tf.Tensor(0.618079, shape=(), dtype=float32)\n"
     ]
    }
   ],
   "source": [
    "print(iou(a,e))"
   ]
  },
  {
   "cell_type": "code",
   "execution_count": 76,
   "metadata": {},
   "outputs": [
    {
     "name": "stdout",
     "output_type": "stream",
     "text": [
      "tf.Tensor(0.6195422, shape=(), dtype=float32)\n"
     ]
    }
   ],
   "source": [
    "print(iou(a,f))"
   ]
  },
  {
   "cell_type": "code",
   "execution_count": 77,
   "metadata": {},
   "outputs": [
    {
     "name": "stdout",
     "output_type": "stream",
     "text": [
      "tf.Tensor(0.85444224, shape=(), dtype=float32)\n"
     ]
    }
   ],
   "source": [
    "print(iou(a,g))"
   ]
  },
  {
   "cell_type": "code",
   "execution_count": null,
   "metadata": {},
   "outputs": [],
   "source": []
  }
 ],
 "metadata": {
  "kernelspec": {
   "display_name": "Python 3",
   "language": "python",
   "name": "python3"
  },
  "language_info": {
   "codemirror_mode": {
    "name": "ipython",
    "version": 3
   },
   "file_extension": ".py",
   "mimetype": "text/x-python",
   "name": "python",
   "nbconvert_exporter": "python",
   "pygments_lexer": "ipython3",
   "version": "3.7.6"
  }
 },
 "nbformat": 4,
 "nbformat_minor": 4
}
